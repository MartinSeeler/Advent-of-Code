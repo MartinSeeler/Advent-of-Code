{
 "cells": [
  {
   "cell_type": "code",
   "execution_count": 7,
   "id": "6acd25d7",
   "metadata": {},
   "outputs": [],
   "source": [
    "import numpy as np\n",
    "from scipy.sparse import dok_matrix\n",
    "from scipy.sparse import identity"
   ]
  },
  {
   "cell_type": "code",
   "execution_count": 8,
   "id": "bace2edc",
   "metadata": {},
   "outputs": [
    {
     "ename": "TypeError",
     "evalue": "Expected rank <=2 dense array or matrix.",
     "output_type": "error",
     "traceback": [
      "\u001b[0;31m---------------------------------------------------------------------------\u001b[0m",
      "\u001b[0;31mTypeError\u001b[0m                                 Traceback (most recent call last)",
      "\u001b[0;32m/var/folders/rv/xh9jnkcx7bb0296nzjhd7c0c0000gp/T/ipykernel_75378/4198272851.py\u001b[0m in \u001b[0;36m<module>\u001b[0;34m\u001b[0m\n\u001b[0;32m----> 1\u001b[0;31m \u001b[0mdok_matrix\u001b[0m\u001b[0;34m(\u001b[0m\u001b[0;34m(\u001b[0m\u001b[0;36m100000\u001b[0m\u001b[0;34m,\u001b[0m \u001b[0;36m100000\u001b[0m\u001b[0;34m,\u001b[0m \u001b[0;36m100000\u001b[0m\u001b[0;34m)\u001b[0m\u001b[0;34m)\u001b[0m\u001b[0;34m\u001b[0m\u001b[0;34m\u001b[0m\u001b[0m\n\u001b[0m",
      "\u001b[0;32m~/miniforge3/envs/aoc2/lib/python3.10/site-packages/scipy/sparse/dok.py\u001b[0m in \u001b[0;36m__init__\u001b[0;34m(self, arg1, shape, dtype, copy)\u001b[0m\n\u001b[1;32m     99\u001b[0m \u001b[0;34m\u001b[0m\u001b[0m\n\u001b[1;32m    100\u001b[0m             \u001b[0;32mif\u001b[0m \u001b[0mlen\u001b[0m\u001b[0;34m(\u001b[0m\u001b[0marg1\u001b[0m\u001b[0;34m.\u001b[0m\u001b[0mshape\u001b[0m\u001b[0;34m)\u001b[0m \u001b[0;34m!=\u001b[0m \u001b[0;36m2\u001b[0m\u001b[0;34m:\u001b[0m\u001b[0;34m\u001b[0m\u001b[0;34m\u001b[0m\u001b[0m\n\u001b[0;32m--> 101\u001b[0;31m                 \u001b[0;32mraise\u001b[0m \u001b[0mTypeError\u001b[0m\u001b[0;34m(\u001b[0m\u001b[0;34m'Expected rank <=2 dense array or matrix.'\u001b[0m\u001b[0;34m)\u001b[0m\u001b[0;34m\u001b[0m\u001b[0;34m\u001b[0m\u001b[0m\n\u001b[0m\u001b[1;32m    102\u001b[0m \u001b[0;34m\u001b[0m\u001b[0m\n\u001b[1;32m    103\u001b[0m             \u001b[0;32mfrom\u001b[0m \u001b[0;34m.\u001b[0m\u001b[0mcoo\u001b[0m \u001b[0;32mimport\u001b[0m \u001b[0mcoo_matrix\u001b[0m\u001b[0;34m\u001b[0m\u001b[0;34m\u001b[0m\u001b[0m\n",
      "\u001b[0;31mTypeError\u001b[0m: Expected rank <=2 dense array or matrix."
     ]
    }
   ],
   "source": [
    "dok_matrix((100000, 100000, 100000))"
   ]
  },
  {
   "cell_type": "code",
   "execution_count": 9,
   "id": "e08b785a",
   "metadata": {},
   "outputs": [],
   "source": [
    "from collections import defaultdict\n",
    "from itertools import product"
   ]
  },
  {
   "cell_type": "code",
   "execution_count": 12,
   "id": "57e9ccd9",
   "metadata": {},
   "outputs": [],
   "source": [
    "dirs = set(product(*(range(-1, 2) for _ in range(3))))\n",
    "dirs.discard((0,) * 3)"
   ]
  },
  {
   "cell_type": "code",
   "execution_count": 13,
   "id": "c012bfb7",
   "metadata": {},
   "outputs": [
    {
     "data": {
      "text/plain": [
       "{(-1, -1, -1),\n",
       " (-1, -1, 0),\n",
       " (-1, -1, 1),\n",
       " (-1, 0, -1),\n",
       " (-1, 0, 0),\n",
       " (-1, 0, 1),\n",
       " (-1, 1, -1),\n",
       " (-1, 1, 0),\n",
       " (-1, 1, 1),\n",
       " (0, -1, -1),\n",
       " (0, -1, 0),\n",
       " (0, -1, 1),\n",
       " (0, 0, -1),\n",
       " (0, 0, 1),\n",
       " (0, 1, -1),\n",
       " (0, 1, 0),\n",
       " (0, 1, 1),\n",
       " (1, -1, -1),\n",
       " (1, -1, 0),\n",
       " (1, -1, 1),\n",
       " (1, 0, -1),\n",
       " (1, 0, 0),\n",
       " (1, 0, 1),\n",
       " (1, 1, -1),\n",
       " (1, 1, 0),\n",
       " (1, 1, 1)}"
      ]
     },
     "execution_count": 13,
     "metadata": {},
     "output_type": "execute_result"
    }
   ],
   "source": [
    "dirs"
   ]
  },
  {
   "cell_type": "code",
   "execution_count": 18,
   "id": "a1a9b5de",
   "metadata": {},
   "outputs": [],
   "source": [
    "ons = set()\n",
    "for x, line in enumerate([\"##.##...#\"]):\n",
    "    for y, cube in enumerate(line):\n",
    "        if cube == \"#\":\n",
    "            ons.add((x, y) + (0,) * (3 - 2))"
   ]
  },
  {
   "cell_type": "code",
   "execution_count": 19,
   "id": "1e740b80",
   "metadata": {},
   "outputs": [
    {
     "data": {
      "text/plain": [
       "{(0, 0, 0), (0, 1, 0), (0, 3, 0), (0, 4, 0), (0, 8, 0)}"
      ]
     },
     "execution_count": 19,
     "metadata": {},
     "output_type": "execute_result"
    }
   ],
   "source": [
    "ons"
   ]
  },
  {
   "cell_type": "code",
   "execution_count": 20,
   "id": "7f0c4eb3",
   "metadata": {},
   "outputs": [
    {
     "data": {
      "text/plain": [
       "{8, 9}"
      ]
     },
     "execution_count": 20,
     "metadata": {},
     "output_type": "execute_result"
    }
   ],
   "source": [
    "x = range(1,10)\n",
    "y = range(8,20)\n",
    "xs = set(x)\n",
    "xs.intersection(y)"
   ]
  },
  {
   "cell_type": "code",
   "execution_count": 21,
   "id": "ac9ad27e",
   "metadata": {},
   "outputs": [
    {
     "data": {
      "text/plain": [
       "range(1, 10)"
      ]
     },
     "execution_count": 21,
     "metadata": {},
     "output_type": "execute_result"
    }
   ],
   "source": [
    "x"
   ]
  },
  {
   "cell_type": "code",
   "execution_count": 22,
   "id": "ad8f255d",
   "metadata": {},
   "outputs": [
    {
     "data": {
      "text/plain": [
       "range(8, 20)"
      ]
     },
     "execution_count": 22,
     "metadata": {},
     "output_type": "execute_result"
    }
   ],
   "source": [
    "y"
   ]
  },
  {
   "cell_type": "code",
   "execution_count": 23,
   "id": "42f5ec58",
   "metadata": {},
   "outputs": [
    {
     "data": {
      "text/plain": [
       "{1, 2, 3, 4, 5, 6, 7, 8, 9}"
      ]
     },
     "execution_count": 23,
     "metadata": {},
     "output_type": "execute_result"
    }
   ],
   "source": [
    "set(x)"
   ]
  },
  {
   "cell_type": "code",
   "execution_count": 24,
   "id": "b86d8793",
   "metadata": {},
   "outputs": [
    {
     "data": {
      "text/plain": [
       "{8, 9, 10, 11, 12, 13, 14, 15, 16, 17, 18, 19}"
      ]
     },
     "execution_count": 24,
     "metadata": {},
     "output_type": "execute_result"
    }
   ],
   "source": [
    "set(y)"
   ]
  },
  {
   "cell_type": "code",
   "execution_count": 25,
   "id": "d300e96e",
   "metadata": {},
   "outputs": [],
   "source": [
    "x1 = range(-5, 47)\n",
    "x2 = range(-44, 5)\n",
    "x3 = range(-49, -1)"
   ]
  },
  {
   "cell_type": "code",
   "execution_count": 27,
   "id": "e8f87a4b",
   "metadata": {},
   "outputs": [
    {
     "data": {
      "text/plain": [
       "{-49,\n",
       " -48,\n",
       " -47,\n",
       " -46,\n",
       " -45,\n",
       " -44,\n",
       " -43,\n",
       " -42,\n",
       " -41,\n",
       " -40,\n",
       " -39,\n",
       " -38,\n",
       " -37,\n",
       " -36,\n",
       " -35,\n",
       " -34,\n",
       " -33,\n",
       " -32,\n",
       " -31,\n",
       " -30,\n",
       " -29,\n",
       " -28,\n",
       " -27,\n",
       " -26,\n",
       " -25,\n",
       " -24,\n",
       " -23,\n",
       " -22,\n",
       " -21,\n",
       " -20,\n",
       " -19,\n",
       " -18,\n",
       " -17,\n",
       " -16,\n",
       " -15,\n",
       " -14,\n",
       " -13,\n",
       " -12,\n",
       " -11,\n",
       " -10,\n",
       " -9,\n",
       " -8,\n",
       " -7,\n",
       " -6,\n",
       " -5,\n",
       " -4,\n",
       " -3,\n",
       " -2,\n",
       " -1,\n",
       " 0,\n",
       " 1,\n",
       " 2,\n",
       " 3,\n",
       " 4,\n",
       " 5,\n",
       " 6,\n",
       " 7,\n",
       " 8,\n",
       " 9,\n",
       " 10,\n",
       " 11,\n",
       " 12,\n",
       " 13,\n",
       " 14,\n",
       " 15,\n",
       " 16,\n",
       " 17,\n",
       " 18,\n",
       " 19,\n",
       " 20,\n",
       " 21,\n",
       " 22,\n",
       " 23,\n",
       " 24,\n",
       " 25,\n",
       " 26,\n",
       " 27,\n",
       " 28,\n",
       " 29,\n",
       " 30,\n",
       " 31,\n",
       " 32,\n",
       " 33,\n",
       " 34,\n",
       " 35,\n",
       " 36,\n",
       " 37,\n",
       " 38,\n",
       " 39,\n",
       " 40,\n",
       " 41,\n",
       " 42,\n",
       " 43,\n",
       " 44,\n",
       " 45,\n",
       " 46}"
      ]
     },
     "execution_count": 27,
     "metadata": {},
     "output_type": "execute_result"
    }
   ],
   "source": [
    "set(x1) | set(x2) | set(x3)"
   ]
  },
  {
   "cell_type": "code",
   "execution_count": null,
   "id": "a956291c",
   "metadata": {},
   "outputs": [],
   "source": []
  }
 ],
 "metadata": {
  "kernelspec": {
   "display_name": "Python 3 (ipykernel)",
   "language": "python",
   "name": "python3"
  },
  "language_info": {
   "codemirror_mode": {
    "name": "ipython",
    "version": 3
   },
   "file_extension": ".py",
   "mimetype": "text/x-python",
   "name": "python",
   "nbconvert_exporter": "python",
   "pygments_lexer": "ipython3",
   "version": "3.10.0"
  }
 },
 "nbformat": 4,
 "nbformat_minor": 5
}
